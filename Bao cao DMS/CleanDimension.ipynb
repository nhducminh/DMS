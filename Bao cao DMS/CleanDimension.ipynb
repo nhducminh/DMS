{
 "cells": [
  {
   "cell_type": "code",
   "execution_count": 5,
   "metadata": {},
   "outputs": [],
   "source": [
    "import pandas as pd\n",
    "import os\n",
    "import re"
   ]
  },
  {
   "cell_type": "code",
   "execution_count": 6,
   "metadata": {},
   "outputs": [],
   "source": [
    "report_folder = '../DMS_daily'\n"
   ]
  },
  {
   "cell_type": "code",
   "execution_count": 7,
   "metadata": {},
   "outputs": [
    {
     "name": "stdout",
     "output_type": "stream",
     "text": [
      "20231204\n"
     ]
    }
   ],
   "source": [
    "#get lash folder\n",
    "pattern = \"^\\d+$\"\n",
    "\n",
    "for f in sorted(os.listdir(report_folder)):\n",
    "    if len(re.findall(pattern, f)) > 0:\n",
    "        ff  =f\n",
    "print(ff)\n",
    "report_folder = os.path.join(report_folder,ff)"
   ]
  },
  {
   "cell_type": "code",
   "execution_count": 8,
   "metadata": {},
   "outputs": [
    {
     "name": "stdout",
     "output_type": "stream",
     "text": [
      "20231204070043_Du_lieu_danh_muc_khachhang.xlsx\n",
      "Danh_sach_nhan_vien20231204070034.xls\n",
      "Units20231204070025.xls\n",
      "20231204070053_Thong_Tin_San_Pham.xlsx\n"
     ]
    }
   ],
   "source": [
    "for file in os.listdir(report_folder):\n",
    "    if str.find(file,'Du_lieu_danh_muc_khachhang') >-1:\n",
    "        print(file)\n",
    "        df_du_lieu_KH = pd.read_excel(os.path.abspath(os.path.join(report_folder,file)))\n",
    "    if str.find(file,'Danh_sach_nhan_vien')>-1:\n",
    "        print(file)\n",
    "        df_du_lieu_NV = pd.read_excel(os.path.abspath(os.path.join(report_folder,file)))\n",
    "    if str.find(file,'Units')>-1:\n",
    "        print(file)\n",
    "        df_du_lieu_Unit = pd.read_excel(os.path.abspath(os.path.join(report_folder,file)))\n",
    "    if str.find(file,'Thong_Tin_San_Pham')>-1:\n",
    "        print(file)\n",
    "        df_du_lieu_SP = pd.read_excel(os.path.abspath(os.path.join(report_folder,file)))\n"
   ]
  },
  {
   "cell_type": "code",
   "execution_count": null,
   "metadata": {},
   "outputs": [],
   "source": []
  }
 ],
 "metadata": {
  "kernelspec": {
   "display_name": "Python 3",
   "language": "python",
   "name": "python3"
  },
  "language_info": {
   "codemirror_mode": {
    "name": "ipython",
    "version": 3
   },
   "file_extension": ".py",
   "mimetype": "text/x-python",
   "name": "python",
   "nbconvert_exporter": "python",
   "pygments_lexer": "ipython3",
   "version": "3.10.12"
  }
 },
 "nbformat": 4,
 "nbformat_minor": 2
}
