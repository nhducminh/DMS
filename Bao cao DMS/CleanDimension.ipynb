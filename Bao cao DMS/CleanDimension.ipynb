{
 "cells": [
  {
   "cell_type": "code",
   "execution_count": 1,
   "metadata": {},
   "outputs": [],
   "source": [
    "import pandas as pd\n",
    "import os\n",
    "import re\n",
    "import openpyxl"
   ]
  },
  {
   "cell_type": "code",
   "execution_count": 2,
   "metadata": {},
   "outputs": [],
   "source": [
    "report_folder = '../DMS_daily'\n"
   ]
  },
  {
   "cell_type": "code",
   "execution_count": 3,
   "metadata": {},
   "outputs": [
    {
     "name": "stdout",
     "output_type": "stream",
     "text": [
      "20231220\n",
      "../DMS_daily/20231220\n"
     ]
    }
   ],
   "source": [
    "#get last folder\n",
    "pattern = \"^\\d+$\"\n",
    "\n",
    "for f in sorted(os.listdir(report_folder)):\n",
    "    if len(re.findall(pattern, f)) > 0:\n",
    "        ff  =f\n",
    "print(ff)\n",
    "report_folder = os.path.join(report_folder,ff)\n",
    "print(report_folder)"
   ]
  },
  {
   "cell_type": "code",
   "execution_count": 4,
   "metadata": {},
   "outputs": [
    {
     "name": "stdout",
     "output_type": "stream",
     "text": [
      "20231220212149_Du_lieu_danh_muc_khachhang.xlsx\n"
     ]
    },
    {
     "name": "stderr",
     "output_type": "stream",
     "text": [
      "/usr/local/lib/python3.10/dist-packages/openpyxl/styles/stylesheet.py:226: UserWarning: Workbook contains no default style, apply openpyxl's default\n",
      "  warn(\"Workbook contains no default style, apply openpyxl's default\")\n"
     ]
    },
    {
     "name": "stdout",
     "output_type": "stream",
     "text": [
      "Units20231220212130.xls\n",
      "20231220212158_Thong_Tin_San_Pham.xlsx\n",
      "Danh_sach_nhan_vien20231220212139.xls\n"
     ]
    }
   ],
   "source": [
    "# for file in os.listdir(report_folder):\n",
    "#     if str.find(file,'Du_lieu_danh_muc_khachhang') >-1:\n",
    "#         print(file)\n",
    "#         df_du_lieu_KH = pd.read_excel(os.path.abspath(os.path.join(report_folder,file)))\n",
    "#     if str.find(file,'Danh_sach_nhan_vien')>-1:\n",
    "#         print(file)\n",
    "#         df_du_lieu_NV = pd.read_excel(os.path.abspath(os.path.join(report_folder,file)))\n",
    "#     if str.find(file,'Units')>-1:\n",
    "#         print(file)\n",
    "#         df_du_lieu_Unit = pd.read_excel(os.path.abspath(os.path.join(report_folder,file)))\n",
    "#     if str.find(file,'Thong_Tin_San_Pham')>-1:\n",
    "#         print(file)\n",
    "#         df_du_lieu_SP = pd.read_excel(os.path.abspath(os.path.join(report_folder,file)))\n"
   ]
  },
  {
   "cell_type": "code",
   "execution_count": 5,
   "metadata": {},
   "outputs": [
    {
     "name": "stdout",
     "output_type": "stream",
     "text": [
      "Bao_cao_du_lieu_don_hang_20231220212241.xlsx\n"
     ]
    },
    {
     "name": "stderr",
     "output_type": "stream",
     "text": [
      "/usr/local/lib/python3.10/dist-packages/openpyxl/styles/stylesheet.py:226: UserWarning: Workbook contains no default style, apply openpyxl's default\n",
      "  warn(\"Workbook contains no default style, apply openpyxl's default\")\n"
     ]
    }
   ],
   "source": [
    "report_folder = '../DMS_daily/20231220'\n",
    "for file in os.listdir(report_folder):\n",
    "    if str.find(file,'Bao_cao_du_lieu_don_hang') >-1:\n",
    "        print(file)\n",
    "        df_du_lieu_DH = pd.read_excel(os.path.abspath(os.path.join(report_folder,file)))\n",
    "df_du_lieu_DH = df_du_lieu_DH[3:].reset_index(drop=True)\n"
   ]
  },
  {
   "cell_type": "code",
   "execution_count": 6,
   "metadata": {},
   "outputs": [],
   "source": [
    "df_du_lieu_DH.columns =df_du_lieu_DH.iloc[0]\n",
    "df_du_lieu_DH = df_du_lieu_DH.loc[1:].reset_index(drop=True)\n",
    "df_du_lieu_DH = df_du_lieu_DH.drop(columns='STT')\n"
   ]
  },
  {
   "cell_type": "code",
   "execution_count": 7,
   "metadata": {},
   "outputs": [],
   "source": [
    "#remove Vùng đào tạo 1\n",
    "filter = df_du_lieu_DH['Miền'] !='Vùng đào tạo 1'\n",
    "df_du_lieu_DH = df_du_lieu_DH[filter].reset_index(drop=True)\n",
    "\n",
    "df_du_lieu_DH = df_du_lieu_DH.loc[:,['Mã C1', 'Mã NVTT',\n",
    "       'Mã Tuyến', 'Mã KH', 'Số đơn hàng',\n",
    "       'Số đơn gốc', 'Loại đơn hàng', 'Đơn hàng tạo từ', 'Ngày đặt hàng',\n",
    "       'Ngày giao hàng', 'Mã kho',  'Mã SP', \n",
    "       'Đơn giá', 'Số lượng (tấn)', 'Số lượng (bao)',\n",
    "       'Thành tiền (VND)', 'Chương trình', 'Loại KM', 'Số tiền chiết khấu',\n",
    "       'SL khuyến mãi (tấn)', 'SL khuyến mãi (bao)', 'Trạng Thái',\n",
    "       'Ngày thực tế kế toán tạo đơn', 'Thời gian gửi SMS', 'Mã CTTL', 'Điểm']]\n"
   ]
  },
  {
   "cell_type": "code",
   "execution_count": 10,
   "metadata": {},
   "outputs": [],
   "source": [
    "df_du_lieu_DH.to_csv('df_du_lieu_DH.csv',index=False)"
   ]
  }
 ],
 "metadata": {
  "kernelspec": {
   "display_name": "Python 3",
   "language": "python",
   "name": "python3"
  },
  "language_info": {
   "codemirror_mode": {
    "name": "ipython",
    "version": 3
   },
   "file_extension": ".py",
   "mimetype": "text/x-python",
   "name": "python",
   "nbconvert_exporter": "python",
   "pygments_lexer": "ipython3",
   "version": "3.10.12"
  }
 },
 "nbformat": 4,
 "nbformat_minor": 2
}
